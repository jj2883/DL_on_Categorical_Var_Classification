{
  "nbformat": 4,
  "nbformat_minor": 0,
  "metadata": {
    "colab": {
      "name": "FINAL_ML_hw5.ipynb",
      "version": "0.3.2",
      "provenance": [],
      "collapsed_sections": [],
      "include_colab_link": true
    },
    "kernelspec": {
      "name": "python3",
      "display_name": "Python 3"
    },
    "accelerator": "GPU"
  },
  "cells": [
    {
      "cell_type": "markdown",
      "metadata": {
        "id": "view-in-github",
        "colab_type": "text"
      },
      "source": [
        "<a href=\"https://colab.research.google.com/github/jj2883/DL_on_Categorical_Var_Classification/blob/master/DeepL_Classifying_mult_var_data.ipynb\" target=\"_parent\"><img src=\"https://colab.research.google.com/assets/colab-badge.svg\" alt=\"Open In Colab\"/></a>"
      ]
    },
    {
      "cell_type": "code",
      "metadata": {
        "id": "J-I3wrwESVVk",
        "colab_type": "code",
        "colab": {}
      },
      "source": [
        "import numpy as np\n",
        "import pandas as pd\n",
        "import seaborn as sns\n",
        "import os\n",
        "import json\n",
        "import sklearn\n",
        "import matplotlib.pyplot as plt\n",
        "%matplotlib inline\n",
        "%config InlineBackend.figure_format = 'retina'"
      ],
      "execution_count": 0,
      "outputs": []
    },
    {
      "cell_type": "code",
      "metadata": {
        "id": "35IAgwy7Slf7",
        "colab_type": "code",
        "outputId": "89bd4b25-90c6-49de-bbaf-1d862851d77b",
        "colab": {
          "base_uri": "https://localhost:8080/",
          "height": 33
        }
      },
      "source": [
        "from google.colab import drive, files\n",
        "drive.mount('/content/drive')"
      ],
      "execution_count": 59,
      "outputs": [
        {
          "output_type": "stream",
          "text": [
            "Drive already mounted at /content/drive; to attempt to forcibly remount, call drive.mount(\"/content/drive\", force_remount=True).\n"
          ],
          "name": "stdout"
        }
      ]
    },
    {
      "cell_type": "code",
      "metadata": {
        "id": "P-kwGLRmZUUJ",
        "colab_type": "code",
        "colab": {}
      },
      "source": [
        "import os.path as osp\n",
        "from pathlib import Path\n",
        "\n",
        "\n",
        "BASE_TRUTH_DIR = Path('/content/drive/My Drive/ML_hw5')\n",
        "\n",
        "train_path = str(BASE_TRUTH_DIR / 'hw5-trainingset-jj2883.csv')\n",
        "test_path = str(BASE_TRUTH_DIR / 'hw5-testset-jj2883.csv')\n",
        "codebook_path = str(BASE_TRUTH_DIR / 'CodeBook-SELECT.csv')\n"
      ],
      "execution_count": 0,
      "outputs": []
    },
    {
      "cell_type": "code",
      "metadata": {
        "colab_type": "code",
        "outputId": "253a26d0-eec8-4688-a93a-ca1135aeef46",
        "id": "xYxtTPD80yaB",
        "colab": {
          "base_uri": "https://localhost:8080/",
          "height": 102
        }
      },
      "source": [
        "train_data = pd.read_csv(train_path)\n",
        "test_data = pd.read_csv(test_path)\n",
        "codebook_data = pd.read_csv(codebook_path)"
      ],
      "execution_count": 61,
      "outputs": [
        {
          "output_type": "stream",
          "text": [
            "/usr/local/lib/python3.6/dist-packages/IPython/core/interactiveshell.py:2718: DtypeWarning: Columns (50,53,54,55,56,255,256,257,258,260,268,376) have mixed types. Specify dtype option on import or set low_memory=False.\n",
            "  interactivity=interactivity, compiler=compiler, result=result)\n",
            "/usr/local/lib/python3.6/dist-packages/IPython/core/interactiveshell.py:2718: DtypeWarning: Columns (50,255,256,257,258,260,268) have mixed types. Specify dtype option on import or set low_memory=False.\n",
            "  interactivity=interactivity, compiler=compiler, result=result)\n"
          ],
          "name": "stderr"
        }
      ]
    },
    {
      "cell_type": "code",
      "metadata": {
        "id": "y18eXXrKfLJK",
        "colab_type": "code",
        "outputId": "677f0125-a424-44da-98c1-a762a5d66b7d",
        "colab": {
          "base_uri": "https://localhost:8080/",
          "height": 98
        }
      },
      "source": [
        "test_data.info()"
      ],
      "execution_count": 62,
      "outputs": [
        {
          "output_type": "stream",
          "text": [
            "<class 'pandas.core.frame.DataFrame'>\n",
            "RangeIndex: 20000 entries, 0 to 19999\n",
            "Columns: 380 entries, cntryid to uni\n",
            "dtypes: float64(82), int64(4), object(294)\n",
            "memory usage: 58.0+ MB\n"
          ],
          "name": "stdout"
        }
      ]
    },
    {
      "cell_type": "code",
      "metadata": {
        "id": "WmZO-lyZfPHz",
        "colab_type": "code",
        "outputId": "7b956c4a-4b28-4827-ae92-b8a8556c87c0",
        "colab": {
          "base_uri": "https://localhost:8080/",
          "height": 98
        }
      },
      "source": [
        "train_data.info()"
      ],
      "execution_count": 63,
      "outputs": [
        {
          "output_type": "stream",
          "text": [
            "<class 'pandas.core.frame.DataFrame'>\n",
            "RangeIndex: 20000 entries, 0 to 19999\n",
            "Columns: 380 entries, cntryid to uni\n",
            "dtypes: float64(80), int64(1), object(299)\n",
            "memory usage: 58.0+ MB\n"
          ],
          "name": "stdout"
        }
      ]
    },
    {
      "cell_type": "code",
      "metadata": {
        "colab_type": "code",
        "id": "lf53CFUnaVE_",
        "colab": {}
      },
      "source": [
        "var_name = codebook_data['VarName'].tolist()\n",
        "var_name\n",
        "\n",
        "y_train_data = train_data['job_performance']\n",
        "\n",
        "\n",
        "# get variable names with specific data type\n",
        "train_var_name_obj = list(train_data.select_dtypes(include=['object']).columns)\n",
        "train_var_name_float = list(train_data.select_dtypes(include=['float64']).columns)\n",
        "train_var_name_int = list(train_data.select_dtypes(include=['int64']).columns)\n",
        "\n",
        "\n",
        "test_var_name_obj = list(test_data.select_dtypes(include=['object']).columns)\n",
        "test_var_name_float = list(test_data.select_dtypes(include=['float64']).columns)\n",
        "test_var_name_int = list(test_data.select_dtypes(include=['int64']).columns)\n"
      ],
      "execution_count": 0,
      "outputs": []
    },
    {
      "cell_type": "code",
      "metadata": {
        "id": "GSgqhcVDg8SP",
        "colab_type": "code",
        "outputId": "ec94fec6-3602-4d65-dd45-38073cd2f048",
        "colab": {
          "base_uri": "https://localhost:8080/",
          "height": 33
        }
      },
      "source": [
        "#get column with different data type between test and training \n",
        "obj_diff=list(set(train_var_name_obj) - set(test_var_name_obj))\n",
        "\n",
        "obj_diff"
      ],
      "execution_count": 65,
      "outputs": [
        {
          "output_type": "execute_result",
          "data": {
            "text/plain": [
              "['isco2l', 'isco1c', 'v71', 'isco1l', 'isco2c']"
            ]
          },
          "metadata": {
            "tags": []
          },
          "execution_count": 65
        }
      ]
    },
    {
      "cell_type": "code",
      "metadata": {
        "colab_type": "code",
        "id": "7PhaSjs1hudE",
        "colab": {}
      },
      "source": [
        "#remove different data type columns\n",
        "train_data = train_data.drop(obj_diff, axis=1)\n",
        "test_data = test_data.drop(obj_diff, axis=1)\n",
        "#train_data = train_data.drop('job_performance', axis=1)\n",
        "#test_data = test_data.drop('job_performance', axis=1)\n",
        "\n",
        "\n",
        "train_var_name_obj = list(train_data.select_dtypes(include=['object']).columns)\n",
        "train_var_name_float = list(train_data.select_dtypes(include=['float64']).columns)\n",
        "train_var_name_int = list(train_data.select_dtypes(include=['int64']).columns)\n",
        "\n",
        "\n",
        "test_var_name_obj = list(test_data.select_dtypes(include=['object']).columns)\n",
        "test_var_name_float = list(test_data.select_dtypes(include=['float64']).columns)\n",
        "test_var_name_int = list(test_data.select_dtypes(include=['int64']).columns)\n"
      ],
      "execution_count": 0,
      "outputs": []
    },
    {
      "cell_type": "code",
      "metadata": {
        "id": "3i1K_jKDhwJn",
        "colab_type": "code",
        "outputId": "91045413-cad7-4fc2-b597-202c7138bf10",
        "colab": {
          "base_uri": "https://localhost:8080/",
          "height": 98
        }
      },
      "source": [
        "train_data.info()"
      ],
      "execution_count": 67,
      "outputs": [
        {
          "output_type": "stream",
          "text": [
            "<class 'pandas.core.frame.DataFrame'>\n",
            "RangeIndex: 20000 entries, 0 to 19999\n",
            "Columns: 375 entries, cntryid to uni\n",
            "dtypes: float64(80), int64(1), object(294)\n",
            "memory usage: 57.2+ MB\n"
          ],
          "name": "stdout"
        }
      ]
    },
    {
      "cell_type": "code",
      "metadata": {
        "id": "a9P3KHCqhwM4",
        "colab_type": "code",
        "outputId": "c2387aca-9c62-4bee-9f60-dc81ecc414ba",
        "colab": {
          "base_uri": "https://localhost:8080/",
          "height": 98
        }
      },
      "source": [
        "test_data.info()"
      ],
      "execution_count": 68,
      "outputs": [
        {
          "output_type": "stream",
          "text": [
            "<class 'pandas.core.frame.DataFrame'>\n",
            "RangeIndex: 20000 entries, 0 to 19999\n",
            "Columns: 375 entries, cntryid to uni\n",
            "dtypes: float64(80), int64(1), object(294)\n",
            "memory usage: 57.2+ MB\n"
          ],
          "name": "stdout"
        }
      ]
    },
    {
      "cell_type": "code",
      "metadata": {
        "id": "Xhfo1McW01fX",
        "colab_type": "code",
        "outputId": "38e8cf57-0746-4d1c-8ccd-1e78962195f8",
        "colab": {
          "base_uri": "https://localhost:8080/",
          "height": 33
        }
      },
      "source": [
        "x_train_data_float = train_data.drop(train_var_name_obj, axis=1)\n",
        "x_train_data_obj = train_data.drop(train_var_name_float, axis=1)\n",
        "\n",
        "x_test_data_float = test_data.drop(test_var_name_obj, axis=1)\n",
        "x_test_data_obj = test_data.drop(test_var_name_float, axis=1)\n",
        "\n",
        "\n",
        "#fill NaN in float data type\n",
        "x_train_data_float = x_train_data_float.fillna(0)\n",
        "x_test_data_float = x_test_data_float.fillna(0)\n",
        "\n",
        "# x_train_data = x_train_data.values\n",
        "# y_train_data = y_train_data.values\n",
        "\n",
        "#X_train_ordinal = x_train_data.values\n",
        "#Y_train_ordinal = y_train_data.values\n",
        "\n",
        "\n",
        "x_test_data_obj.shape"
      ],
      "execution_count": 70,
      "outputs": [
        {
          "output_type": "execute_result",
          "data": {
            "text/plain": [
              "(20000, 295)"
            ]
          },
          "metadata": {
            "tags": []
          },
          "execution_count": 70
        }
      ]
    },
    {
      "cell_type": "code",
      "metadata": {
        "id": "zyU1WhZ2ivJT",
        "colab_type": "code",
        "outputId": "c06df5e5-34c1-4d98-c0b6-270c0f2e2b51",
        "colab": {
          "base_uri": "https://localhost:8080/",
          "height": 50
        }
      },
      "source": [
        "print(x_train_data_obj.shape)\n",
        "print(x_test_data_obj.shape)"
      ],
      "execution_count": 71,
      "outputs": [
        {
          "output_type": "stream",
          "text": [
            "(20000, 295)\n",
            "(20000, 295)\n"
          ],
          "name": "stdout"
        }
      ]
    },
    {
      "cell_type": "code",
      "metadata": {
        "id": "MfcaJCUTbtgI",
        "colab_type": "code",
        "outputId": "acb0cb0f-c4df-497c-b90d-20f3e65723c8",
        "colab": {
          "base_uri": "https://localhost:8080/",
          "height": 277
        }
      },
      "source": [
        "x_train_data_obj_dummy = pd.get_dummies(x_train_data_obj)\n",
        "x_test_data_obj_dummy = pd.get_dummies(x_test_data_obj)\n",
        "\n",
        "\n",
        "\n",
        "print(x_test_data_obj_dummy.head())\n",
        "print(x_train_data_obj_dummy.head())"
      ],
      "execution_count": 72,
      "outputs": [
        {
          "output_type": "stream",
          "text": [
            "      row  ...  uni_jj2883\n",
            "0  115976  ...           1\n",
            "1   47898  ...           1\n",
            "2  170433  ...           1\n",
            "3  163680  ...           1\n",
            "4   70699  ...           1\n",
            "\n",
            "[5 rows x 2158 columns]\n",
            "      row  cntryid_Austria  ...  v127_ISCED 5B  uni_jj2883\n",
            "0  190496                0  ...              0           1\n",
            "1  157699                0  ...              0           1\n",
            "2   97425                0  ...              0           1\n",
            "3   79691                0  ...              0           1\n",
            "4  142031                0  ...              0           1\n",
            "\n",
            "[5 rows x 2165 columns]\n"
          ],
          "name": "stdout"
        }
      ]
    },
    {
      "cell_type": "code",
      "metadata": {
        "id": "RiAJwUW2jf0K",
        "colab_type": "code",
        "colab": {}
      },
      "source": [
        "#Get the different columns \n",
        "enc_diff1=list(set(x_train_data_obj_dummy) - set(x_test_data_obj_dummy))\n",
        "enc_diff2=list(set(x_test_data_obj_dummy) - set(x_train_data_obj_dummy))\n",
        "#print(enc_diff1)\n",
        "#print(enc_diff2)"
      ],
      "execution_count": 0,
      "outputs": []
    },
    {
      "cell_type": "code",
      "metadata": {
        "id": "GCkUtt_ake0t",
        "colab_type": "code",
        "outputId": "03955581-9370-4f9d-eb94-1d9214dea0e7",
        "colab": {
          "base_uri": "https://localhost:8080/",
          "height": 277
        }
      },
      "source": [
        "#Drop the column with difference\n",
        "x_train_data_obj_clean = x_train_data_obj_dummy.drop(enc_diff1, axis=1)\n",
        "x_test_data_obj_clean = x_test_data_obj_dummy.drop(enc_diff2, axis=1)\n",
        "\n",
        "\n",
        "print(x_train_data_obj_clean.head())\n",
        "print(x_test_data_obj_clean.head())"
      ],
      "execution_count": 74,
      "outputs": [
        {
          "output_type": "stream",
          "text": [
            "      row  cntryid_Austria  ...  v127_ISCED 5B  uni_jj2883\n",
            "0  190496                0  ...              0           1\n",
            "1  157699                0  ...              0           1\n",
            "2   97425                0  ...              0           1\n",
            "3   79691                0  ...              0           1\n",
            "4  142031                0  ...              0           1\n",
            "\n",
            "[5 rows x 2064 columns]\n",
            "      row  cntryid_Austria  ...  v127_ISCED 5B  uni_jj2883\n",
            "0  115976                0  ...              0           1\n",
            "1   47898                0  ...              0           1\n",
            "2  170433                0  ...              0           1\n",
            "3  163680                0  ...              0           1\n",
            "4   70699                0  ...              0           1\n",
            "\n",
            "[5 rows x 2064 columns]\n"
          ],
          "name": "stdout"
        }
      ]
    },
    {
      "cell_type": "code",
      "metadata": {
        "id": "P1WzUOMx7UkD",
        "colab_type": "code",
        "colab": {}
      },
      "source": [
        "x_train_data_enc = pd.concat([x_train_data_float,x_train_data_obj_clean], axis=1)\n",
        "x_train_data_enc = x_train_data_enc.loc[:,~x_train_data_enc.columns.duplicated()]\n",
        "\n",
        "x_pred_data_enc = pd.concat([x_test_data_float,x_test_data_obj_clean], axis=1)\n",
        "x_pred_data_enc = x_pred_data_enc.loc[:,~x_pred_data_enc.columns.duplicated()]\n",
        "\n",
        "\n",
        "x_train_data_enc1 = x_train_data_enc\n",
        "\n",
        "x_test_data_enc = x_train_data_enc1.loc[18000:,:]\n",
        "x_train_data_enc = x_train_data_enc1.loc[:18000,:]\n"
      ],
      "execution_count": 0,
      "outputs": []
    },
    {
      "cell_type": "code",
      "metadata": {
        "id": "3312mlYBsE6v",
        "colab_type": "code",
        "colab": {}
      },
      "source": [
        "import os\n",
        "import numpy as np\n",
        "import pandas as pd\n",
        "import matplotlib.pyplot as plt\n",
        "from scipy import stats\n",
        "from scipy.stats import zscore\n",
        "from math import radians, cos, sin, asin, sqrt\n",
        "import pydot\n",
        "import seaborn as sns\n",
        "import keras\n",
        "import tensorflow as tf\n",
        "from keras import metrics\n",
        "from keras import regularizers\n",
        "from keras.models import Sequential, load_model\n",
        "from keras.layers import Dense, Dropout, Flatten, Activation\n",
        "from keras.optimizers import Adam, RMSprop\n",
        "from keras.callbacks import TensorBoard, EarlyStopping, ModelCheckpoint\n",
        "from keras.utils import plot_model"
      ],
      "execution_count": 0,
      "outputs": []
    },
    {
      "cell_type": "code",
      "metadata": {
        "id": "XggNjeRNsE15",
        "colab_type": "code",
        "colab": {}
      },
      "source": [
        "t_model = Sequential()\n",
        "t_model.add(Dense(100, activation=\"relu\", input_shape=(2143,)))\n",
        "t_model.add(Dense(50, activation=\"relu\"))\n",
        "t_model.add(Dense(10, activation=\"relu\"))\n",
        "\n",
        "t_model.add(Dense(1))\n",
        "t_model.compile(\n",
        "    loss=\"mean_squared_error\",\n",
        "    optimizer=Adam(lr=0.001),\n",
        "    metrics=[metrics.mae])"
      ],
      "execution_count": 0,
      "outputs": []
    },
    {
      "cell_type": "code",
      "metadata": {
        "id": "Gu43xQyb4jjZ",
        "colab_type": "code",
        "outputId": "339500f6-ff01-4c55-a6d3-e0b1a632b684",
        "colab": {
          "base_uri": "https://localhost:8080/",
          "height": 180
        }
      },
      "source": [
        "x_train_data_enc.columns"
      ],
      "execution_count": 90,
      "outputs": [
        {
          "output_type": "execute_result",
          "data": {
            "text/plain": [
              "Index(['age_r', 'yrsqual', 'yrsqual_t', 'yrsget', 'imyrs', 'leavedu',\n",
              "       'nfehrsnjr', 'nfehrsjr', 'nfehrs', 'earnhr',\n",
              "       ...\n",
              "       'v127_ISCED 2', 'v127_ISCED 3 (without distinction A-B-C, 2y+)',\n",
              "       'v127_ISCED 3A-B', 'v127_ISCED 3C 2 years or more',\n",
              "       'v127_ISCED 3C shorter than 2 years', 'v127_ISCED 4A-B',\n",
              "       'v127_ISCED 5A, bachelor degree',\n",
              "       'v127_ISCED 5A, master degree, and 6 (without distinction)',\n",
              "       'v127_ISCED 5B', 'uni_jj2883'],\n",
              "      dtype='object', length=2144)"
            ]
          },
          "metadata": {
            "tags": []
          },
          "execution_count": 90
        }
      ]
    },
    {
      "cell_type": "code",
      "metadata": {
        "id": "-y0ENBsD4jq-",
        "colab_type": "code",
        "colab": {}
      },
      "source": [
        "epochs = 500\n",
        "batch = 128\n",
        "label_column='job_performance'\n",
        "train = x_train_data_enc\n",
        "validate = x_test_data_enc\n",
        "\n",
        "label_column='job_performance'\n",
        "test = x_pred_data_enc\n",
        "\n",
        "cols1 = list(test.columns)\n",
        "cols1.remove(label_column)\n",
        "\n",
        "\n",
        "cols = list(train.columns)\n",
        "cols.remove(label_column)\n",
        "history = t_model.fit(\n",
        "    train[cols], train[label_column],\n",
        "    batch_size=batch,\n",
        "    epochs=epochs,\n",
        "    shuffle=True,\n",
        "    verbose=1,\n",
        "    validation_data=(validate[cols],validate[label_column])\n",
        "#    callbacks=keras_callbacks\n",
        ")\n",
        "score = t_model.evaluate(test[cols1], test[label_column], verbose=0)"
      ],
      "execution_count": 0,
      "outputs": []
    },
    {
      "cell_type": "code",
      "metadata": {
        "id": "Rv0vUEua4jtd",
        "colab_type": "code",
        "colab": {
          "base_uri": "https://localhost:8080/",
          "height": 282
        },
        "outputId": "5f6f7ac7-4e30-4ad9-d9bc-c7af78aff3cb"
      },
      "source": [
        "# Get training and test loss histories\n",
        "training_loss = history.history['loss']\n",
        "test_loss = history.history['val_loss']\n",
        "\n",
        "# Create count of the number of epochs\n",
        "epoch_count = range(1, len(training_loss) + 1)\n",
        "\n",
        "# Visualize loss history\n",
        "#plt.plot(epoch_count, training_loss, 'r--')\n",
        "plt.plot(epoch_count, test_loss, 'b-')\n",
        "plt.legend(['Training Loss', 'Test Loss'])\n",
        "plt.xlabel('Epoch')\n",
        "plt.ylabel('Loss')\n",
        "plt.ylim(40000,180000)\n",
        "\n",
        "plt.show();\n",
        "\n"
      ],
      "execution_count": 92,
      "outputs": [
        {
          "output_type": "display_data",
          "data": {
            "image/png": "[encoded data removed]",
            "text/plain": [
              "<Figure size 432x288 with 1 Axes>"
            ]
          },
          "metadata": {
            "tags": [],
            "image/png": {
              "width": 410,
              "height": 265
            }
          }
        }
      ]
    },
    {
      "cell_type": "code",
      "metadata": {
        "colab_type": "code",
        "id": "sb-JNTKTSeCO",
        "colab": {}
      },
      "source": [
        "predicted=t_model.predict(x_pred_data_enc[cols])"
      ],
      "execution_count": 0,
      "outputs": []
    },
    {
      "cell_type": "code",
      "metadata": {
        "id": "C5xjss_5O6FR",
        "colab_type": "code",
        "colab": {}
      },
      "source": [
        "\n",
        "BASE_TRUTH_DIR = Path('/content/drive/My Drive/ML_hw5')\n",
        "\n",
        "pred_path = str(BASE_TRUTH_DIR / 'predicted_137814.csv')\n",
        "pd.DataFrame(predicted).to_csv(pred_path)\n",
        "\n"
      ],
      "execution_count": 0,
      "outputs": []
    }
  ]
}